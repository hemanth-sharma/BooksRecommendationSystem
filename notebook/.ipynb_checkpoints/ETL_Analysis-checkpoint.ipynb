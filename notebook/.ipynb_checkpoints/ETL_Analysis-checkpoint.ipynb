{
 "cells": [
  {
   "cell_type": "code",
   "execution_count": 224,
   "id": "d74cd658-0229-4d52-88e4-1f69ed535c3d",
   "metadata": {},
   "outputs": [],
   "source": [
    "import pandas as pd \n",
    "import os"
   ]
  },
  {
   "cell_type": "markdown",
   "id": "4aac667d-6283-41b1-917a-2194b8ec2585",
   "metadata": {},
   "source": [
    "### Extract a subset of Data from goodreads_books.json dataset. \n",
    "<p>Dataset link: https://mengtingwan.github.io/data/goodreads#datasets</p>\n",
    "Creating a subset of this dataset to use for Book Recommendation System."
   ]
  },
  {
   "cell_type": "code",
   "execution_count": 225,
   "id": "115ab7b8-311f-4cc1-92b7-5e9f19d3e6bb",
   "metadata": {},
   "outputs": [],
   "source": [
    "def extract_data(file_path, output_file_path, chunk_size):\n",
    "    chunks = pd.read_json(file_path, lines=True, chunksize=chunk_size)\n",
    "    count = 10\n",
    "    data = []\n",
    "    for chunk in chunks:\n",
    "        if count <= 0: \n",
    "            break\n",
    "        count -= 1\n",
    "        chunk = chunk.head(200)\n",
    "        extracted = chunk[['url', 'title']].to_dict(orient='records')\n",
    "        data.extend(extracted)\n",
    "\n",
    "    result_df = pd.DataFrame(data)\n",
    "    os.makedirs(os.path.dirname(output_file_path), exist_ok=True)\n",
    "    result_df.to_json(output_file_path, orient='records', lines=True)\n",
    "    print(\"Data saved successfully. \") \n",
    "    \n",
    "    "
   ]
  },
  {
   "cell_type": "code",
   "execution_count": 226,
   "id": "691d80f3-3af7-43f5-9daa-01189def04d5",
   "metadata": {},
   "outputs": [
    {
     "name": "stdout",
     "output_type": "stream",
     "text": [
      "Data saved successfully. \n"
     ]
    }
   ],
   "source": [
    "extract_data(\"../data/goodreads_books_raw.json\", \"../data/goodreads_books_processed.json\", 2000)"
   ]
  },
  {
   "cell_type": "code",
   "execution_count": 227,
   "id": "3ffeb7f9-8a4c-40f3-aea8-2607f6f3412c",
   "metadata": {},
   "outputs": [],
   "source": [
    "data = pd.read_json(\"../data/goodreads_books_processed.json\", lines=True)"
   ]
  },
  {
   "cell_type": "code",
   "execution_count": 228,
   "id": "b6075e96-8471-426b-84fb-b53037c28c2e",
   "metadata": {},
   "outputs": [
    {
     "data": {
      "text/plain": [
       "'https://www.goodreads.com/book/show/13586884-star-wars'"
      ]
     },
     "execution_count": 228,
     "metadata": {},
     "output_type": "execute_result"
    }
   ],
   "source": [
    "data.iloc[522].url"
   ]
  },
  {
   "cell_type": "code",
   "execution_count": 229,
   "id": "e337e75e-0965-4372-b967-8bf68a76a2c1",
   "metadata": {
    "scrolled": true
   },
   "outputs": [],
   "source": [
    "# for i in data.index:\n",
    "#     print(data.iloc[i].url)"
   ]
  },
  {
   "cell_type": "code",
   "execution_count": null,
   "id": "cb2d29bf-7c29-479f-a322-15eefd753b60",
   "metadata": {},
   "outputs": [],
   "source": []
  },
  {
   "cell_type": "markdown",
   "id": "78a3b691-749f-4098-bd1f-0a294fcbd45f",
   "metadata": {},
   "source": [
    "### Use extracted books urls to scrape data from the goodreads.com website. \n",
    "The dataset is missing a few important fields which are cruicial for the ML model."
   ]
  },
  {
   "cell_type": "code",
   "execution_count": 230,
   "id": "750a52f1-8f1a-445f-9708-7002817be15c",
   "metadata": {
    "scrolled": true
   },
   "outputs": [],
   "source": [
    "## Look in data_scrapper.py file. "
   ]
  },
  {
   "cell_type": "markdown",
   "id": "12256da2-6c1b-4974-a2b4-609ec2a68888",
   "metadata": {},
   "source": [
    "### Data Transformation and processing\n",
    "- Add book_id\n",
    "- Fix rating count and reviews columns\n",
    "- check for null values\n",
    "- more...."
   ]
  },
  {
   "cell_type": "code",
   "execution_count": 231,
   "id": "f8879712-ce57-48e4-beb8-66f2122cd46d",
   "metadata": {},
   "outputs": [],
   "source": [
    "data_df = pd.read_json(\"../goodreads_books_extracted.json\")"
   ]
  },
  {
   "cell_type": "code",
   "execution_count": 232,
   "id": "1e5fcbac-c543-4050-b7bc-a85665192f3c",
   "metadata": {
    "scrolled": true
   },
   "outputs": [
    {
     "data": {
      "text/html": [
       "<div>\n",
       "<style scoped>\n",
       "    .dataframe tbody tr th:only-of-type {\n",
       "        vertical-align: middle;\n",
       "    }\n",
       "\n",
       "    .dataframe tbody tr th {\n",
       "        vertical-align: top;\n",
       "    }\n",
       "\n",
       "    .dataframe thead th {\n",
       "        text-align: right;\n",
       "    }\n",
       "</style>\n",
       "<table border=\"1\" class=\"dataframe\">\n",
       "  <thead>\n",
       "    <tr style=\"text-align: right;\">\n",
       "      <th></th>\n",
       "      <th>url</th>\n",
       "      <th>title</th>\n",
       "      <th>author</th>\n",
       "      <th>rating_stars</th>\n",
       "      <th>rating_count</th>\n",
       "      <th>reviews</th>\n",
       "      <th>description</th>\n",
       "      <th>genres</th>\n",
       "      <th>pagecount</th>\n",
       "      <th>published_date</th>\n",
       "      <th>language</th>\n",
       "    </tr>\n",
       "  </thead>\n",
       "  <tbody>\n",
       "    <tr>\n",
       "      <th>0</th>\n",
       "      <td>https://www.goodreads.com/book/show/5333265-w-...</td>\n",
       "      <td>W. C. Fields: A Life on Film</td>\n",
       "      <td>Ronald J. Fields</td>\n",
       "      <td>3.86</td>\n",
       "      <td>7ratings</td>\n",
       "      <td>1review</td>\n",
       "      <td>Provides plot summaries, cast, credits, and st...</td>\n",
       "      <td>[]</td>\n",
       "      <td>256 pages, Paperback</td>\n",
       "      <td>First published August 1, 1984</td>\n",
       "      <td>English</td>\n",
       "    </tr>\n",
       "    <tr>\n",
       "      <th>1</th>\n",
       "      <td>https://www.goodreads.com/book/show/1333909.Go...</td>\n",
       "      <td>Good Harbor</td>\n",
       "      <td>Anita Diamant</td>\n",
       "      <td>3.30</td>\n",
       "      <td>8,414ratings</td>\n",
       "      <td>960reviews</td>\n",
       "      <td>From their first meeting, a friendship grows b...</td>\n",
       "      <td>[Fiction, Contemporary, Chick Lit, Womens, Nov...</td>\n",
       "      <td>Audio CD</td>\n",
       "      <td>First published January 1, 2001</td>\n",
       "      <td>English</td>\n",
       "    </tr>\n",
       "    <tr>\n",
       "      <th>2</th>\n",
       "      <td>https://www.goodreads.com/book/show/7327624-th...</td>\n",
       "      <td>The Unschooled Wizard</td>\n",
       "      <td>Barbara Hambly</td>\n",
       "      <td>3.99</td>\n",
       "      <td>158ratings</td>\n",
       "      <td>9reviews</td>\n",
       "      <td>Omnibus book club edition containing the Ladie...</td>\n",
       "      <td>[Fantasy, Fiction, Own, Audiobook]</td>\n",
       "      <td>600 pages, Hardcover</td>\n",
       "      <td>First published January 1, 1987</td>\n",
       "      <td>English</td>\n",
       "    </tr>\n",
       "    <tr>\n",
       "      <th>3</th>\n",
       "      <td>https://www.goodreads.com/book/show/6066819-be...</td>\n",
       "      <td>Best Friends Forever</td>\n",
       "      <td>Jennifer Weiner</td>\n",
       "      <td>3.51</td>\n",
       "      <td>65,109ratings</td>\n",
       "      <td>4,052reviews</td>\n",
       "      <td>Addie Downs and Valerie Adler were eight when ...</td>\n",
       "      <td>[Chick Lit, Fiction, Romance, Contemporary, Ad...</td>\n",
       "      <td>368 pages, Hardcover</td>\n",
       "      <td>First published July 14, 2009</td>\n",
       "      <td>English</td>\n",
       "    </tr>\n",
       "    <tr>\n",
       "      <th>4</th>\n",
       "      <td>https://www.goodreads.com/book/show/287140.Run...</td>\n",
       "      <td>Runic Astrology: Starcraft and Timekeeping in ...</td>\n",
       "      <td>Nigel Pennick</td>\n",
       "      <td>3.33</td>\n",
       "      <td>21ratings</td>\n",
       "      <td>6reviews</td>\n",
       "      <td>Book by Pennick, Nigel</td>\n",
       "      <td>[]</td>\n",
       "      <td>272 pages, Paperback</td>\n",
       "      <td>First published January 1, 1990</td>\n",
       "      <td>English</td>\n",
       "    </tr>\n",
       "  </tbody>\n",
       "</table>\n",
       "</div>"
      ],
      "text/plain": [
       "                                                 url  \\\n",
       "0  https://www.goodreads.com/book/show/5333265-w-...   \n",
       "1  https://www.goodreads.com/book/show/1333909.Go...   \n",
       "2  https://www.goodreads.com/book/show/7327624-th...   \n",
       "3  https://www.goodreads.com/book/show/6066819-be...   \n",
       "4  https://www.goodreads.com/book/show/287140.Run...   \n",
       "\n",
       "                                               title            author  \\\n",
       "0                       W. C. Fields: A Life on Film  Ronald J. Fields   \n",
       "1                                        Good Harbor     Anita Diamant   \n",
       "2                              The Unschooled Wizard    Barbara Hambly   \n",
       "3                               Best Friends Forever   Jennifer Weiner   \n",
       "4  Runic Astrology: Starcraft and Timekeeping in ...     Nigel Pennick   \n",
       "\n",
       "   rating_stars   rating_count       reviews  \\\n",
       "0          3.86       7ratings       1review   \n",
       "1          3.30   8,414ratings    960reviews   \n",
       "2          3.99     158ratings      9reviews   \n",
       "3          3.51  65,109ratings  4,052reviews   \n",
       "4          3.33      21ratings      6reviews   \n",
       "\n",
       "                                         description  \\\n",
       "0  Provides plot summaries, cast, credits, and st...   \n",
       "1  From their first meeting, a friendship grows b...   \n",
       "2  Omnibus book club edition containing the Ladie...   \n",
       "3  Addie Downs and Valerie Adler were eight when ...   \n",
       "4                             Book by Pennick, Nigel   \n",
       "\n",
       "                                              genres             pagecount  \\\n",
       "0                                                 []  256 pages, Paperback   \n",
       "1  [Fiction, Contemporary, Chick Lit, Womens, Nov...              Audio CD   \n",
       "2                 [Fantasy, Fiction, Own, Audiobook]  600 pages, Hardcover   \n",
       "3  [Chick Lit, Fiction, Romance, Contemporary, Ad...  368 pages, Hardcover   \n",
       "4                                                 []  272 pages, Paperback   \n",
       "\n",
       "                    published_date language  \n",
       "0   First published August 1, 1984  English  \n",
       "1  First published January 1, 2001  English  \n",
       "2  First published January 1, 1987  English  \n",
       "3    First published July 14, 2009  English  \n",
       "4  First published January 1, 1990  English  "
      ]
     },
     "execution_count": 232,
     "metadata": {},
     "output_type": "execute_result"
    }
   ],
   "source": [
    "data_df.head()"
   ]
  },
  {
   "cell_type": "code",
   "execution_count": 233,
   "id": "9b0013a8-1b41-4f8e-931e-e8228220cebf",
   "metadata": {},
   "outputs": [
    {
     "data": {
      "text/plain": [
       "(1949, 11)"
      ]
     },
     "execution_count": 233,
     "metadata": {},
     "output_type": "execute_result"
    }
   ],
   "source": [
    "data_df.shape"
   ]
  },
  {
   "cell_type": "code",
   "execution_count": 234,
   "id": "84d5eeac-7ead-4041-9cfd-8d9ea65a6f84",
   "metadata": {
    "scrolled": true
   },
   "outputs": [
    {
     "data": {
      "text/plain": [
       "5333265"
      ]
     },
     "execution_count": 234,
     "metadata": {},
     "output_type": "execute_result"
    }
   ],
   "source": [
    "data_df.url.iloc[1]\n",
    "int(data_df.url.iloc[i].split(\"/show/\")[1].split(\"-\")[0])\n"
   ]
  },
  {
   "cell_type": "code",
   "execution_count": 235,
   "id": "418b136f-06eb-4500-94a5-a2b61b5d6e9f",
   "metadata": {},
   "outputs": [
    {
     "data": {
      "text/html": [
       "<div>\n",
       "<style scoped>\n",
       "    .dataframe tbody tr th:only-of-type {\n",
       "        vertical-align: middle;\n",
       "    }\n",
       "\n",
       "    .dataframe tbody tr th {\n",
       "        vertical-align: top;\n",
       "    }\n",
       "\n",
       "    .dataframe thead th {\n",
       "        text-align: right;\n",
       "    }\n",
       "</style>\n",
       "<table border=\"1\" class=\"dataframe\">\n",
       "  <thead>\n",
       "    <tr style=\"text-align: right;\">\n",
       "      <th></th>\n",
       "      <th>0</th>\n",
       "    </tr>\n",
       "  </thead>\n",
       "  <tbody>\n",
       "    <tr>\n",
       "      <th>0</th>\n",
       "      <td>5333265</td>\n",
       "    </tr>\n",
       "    <tr>\n",
       "      <th>1</th>\n",
       "      <td>1333909</td>\n",
       "    </tr>\n",
       "    <tr>\n",
       "      <th>2</th>\n",
       "      <td>7327624</td>\n",
       "    </tr>\n",
       "    <tr>\n",
       "      <th>3</th>\n",
       "      <td>6066819</td>\n",
       "    </tr>\n",
       "    <tr>\n",
       "      <th>4</th>\n",
       "      <td>287140</td>\n",
       "    </tr>\n",
       "    <tr>\n",
       "      <th>...</th>\n",
       "      <td>...</td>\n",
       "    </tr>\n",
       "    <tr>\n",
       "      <th>1944</th>\n",
       "      <td>9481747</td>\n",
       "    </tr>\n",
       "    <tr>\n",
       "      <th>1945</th>\n",
       "      <td>25626179</td>\n",
       "    </tr>\n",
       "    <tr>\n",
       "      <th>1946</th>\n",
       "      <td>13561038</td>\n",
       "    </tr>\n",
       "    <tr>\n",
       "      <th>1947</th>\n",
       "      <td>60751</td>\n",
       "    </tr>\n",
       "    <tr>\n",
       "      <th>1948</th>\n",
       "      <td>4207144</td>\n",
       "    </tr>\n",
       "  </tbody>\n",
       "</table>\n",
       "<p>1949 rows × 1 columns</p>\n",
       "</div>"
      ],
      "text/plain": [
       "             0\n",
       "0      5333265\n",
       "1      1333909\n",
       "2      7327624\n",
       "3      6066819\n",
       "4       287140\n",
       "...        ...\n",
       "1944   9481747\n",
       "1945  25626179\n",
       "1946  13561038\n",
       "1947     60751\n",
       "1948   4207144\n",
       "\n",
       "[1949 rows x 1 columns]"
      ]
     },
     "execution_count": 235,
     "metadata": {},
     "output_type": "execute_result"
    }
   ],
   "source": [
    "# Using regular expression \n",
    "data_df.url.str.extract(r\".*?(\\d+)\")"
   ]
  },
  {
   "cell_type": "code",
   "execution_count": 236,
   "id": "d13adb6f-694b-4530-a2e3-9a8163293696",
   "metadata": {},
   "outputs": [],
   "source": [
    "# Adding book_id column\n",
    "data_df[\"book_id\"] = data_df.url.str.extract(r\".*?(\\d+)\")"
   ]
  },
  {
   "cell_type": "code",
   "execution_count": 237,
   "id": "38094e94-6736-4771-b7fa-475712d6d033",
   "metadata": {
    "scrolled": true
   },
   "outputs": [],
   "source": [
    "data_df['rating_count'] = data_df['rating_count'].str.extract(r'(\\d+(?:,\\d+)*)')\n",
    "data_df['rating_count'] = data_df['rating_count'].str.replace(',', '').astype(int)\n",
    "\n",
    "data_df['reviews'] = data_df['reviews'].str.extract(r'(\\d+(?:,\\d+)*)')\n",
    "data_df['reviews'] = data_df['reviews'].str.replace(',', '').astype(int)\n"
   ]
  },
  {
   "cell_type": "code",
   "execution_count": 238,
   "id": "e7295518-2f49-4342-b7cd-88f7be53e8db",
   "metadata": {},
   "outputs": [],
   "source": [
    "data_df[\"rating_stars\"] = data_df[\"rating_stars\"].astype(float)"
   ]
  },
  {
   "cell_type": "code",
   "execution_count": 239,
   "id": "37f21589-937f-4a70-a418-f797f3af7d73",
   "metadata": {
    "scrolled": true
   },
   "outputs": [],
   "source": [
    "# pagecount column \n",
    "\n",
    "data_df[\"format_type\"] = data_df['pagecount'].str.extract(r'pages,\\s*(.*)')[0]\n",
    "data_df['pagecount'] = data_df['pagecount'].str.extract(r'(\\d+(?:,\\d+)*)')\n",
    "data_df['pagecount'] = data_df['pagecount'].astype('Int64')\n",
    "data_df['format_type'] = data_df['format_type'].fillna('Not Specified')\n"
   ]
  },
  {
   "cell_type": "code",
   "execution_count": 240,
   "id": "091b67ac-ec03-4010-a4b0-29613273b994",
   "metadata": {},
   "outputs": [
    {
     "data": {
      "text/plain": [
       "0            Paperback\n",
       "1        Not Specified\n",
       "2            Hardcover\n",
       "3            Hardcover\n",
       "4            Paperback\n",
       "             ...      \n",
       "1944             ebook\n",
       "1945    Kindle Edition\n",
       "1946     Not Specified\n",
       "1947         Paperback\n",
       "1948     Not Specified\n",
       "Name: format_type, Length: 1949, dtype: object"
      ]
     },
     "execution_count": 240,
     "metadata": {},
     "output_type": "execute_result"
    }
   ],
   "source": [
    "data_df[\"format_type\"]"
   ]
  },
  {
   "cell_type": "code",
   "execution_count": null,
   "id": "2c74fac0-d5ee-4055-83c8-ff8a753a04fa",
   "metadata": {},
   "outputs": [],
   "source": []
  },
  {
   "cell_type": "code",
   "execution_count": 241,
   "id": "35cd2bf3-ef7a-4519-a6b4-576e3db30f64",
   "metadata": {},
   "outputs": [
    {
     "data": {
      "text/plain": [
       "0        First published August 1, 1984\n",
       "1       First published January 1, 2001\n",
       "2       First published January 1, 1987\n",
       "3         First published July 14, 2009\n",
       "4       First published January 1, 1990\n",
       "                     ...               \n",
       "1944         Published November 6, 2007\n",
       "1945       First published June 1, 2015\n",
       "1946     First published March 13, 2012\n",
       "1947    First published January 1, 1972\n",
       "1948    First published January 1, 1998\n",
       "Name: published_date, Length: 1949, dtype: object"
      ]
     },
     "execution_count": 241,
     "metadata": {},
     "output_type": "execute_result"
    }
   ],
   "source": [
    "data_df[\"published_date\"] #[0].split(\"published\")\n",
    "\n"
   ]
  },
  {
   "cell_type": "code",
   "execution_count": 242,
   "id": "df0bb2e4-4bce-4aae-9d74-ecc310367585",
   "metadata": {},
   "outputs": [],
   "source": [
    "data_df['published_date'] = data_df['published_date'].str.extract(r'(\\b\\w+ \\d{1,2}, \\d{4}\\b)')\n",
    "data_df['published_date'] = data_df['published_date'].fillna('Not Specified')"
   ]
  },
  {
   "cell_type": "code",
   "execution_count": 243,
   "id": "525a57c1-afca-44be-95a9-fc076ef3d8e4",
   "metadata": {},
   "outputs": [
    {
     "data": {
      "text/html": [
       "<div>\n",
       "<style scoped>\n",
       "    .dataframe tbody tr th:only-of-type {\n",
       "        vertical-align: middle;\n",
       "    }\n",
       "\n",
       "    .dataframe tbody tr th {\n",
       "        vertical-align: top;\n",
       "    }\n",
       "\n",
       "    .dataframe thead th {\n",
       "        text-align: right;\n",
       "    }\n",
       "</style>\n",
       "<table border=\"1\" class=\"dataframe\">\n",
       "  <thead>\n",
       "    <tr style=\"text-align: right;\">\n",
       "      <th></th>\n",
       "      <th>url</th>\n",
       "      <th>title</th>\n",
       "      <th>author</th>\n",
       "      <th>rating_stars</th>\n",
       "      <th>rating_count</th>\n",
       "      <th>reviews</th>\n",
       "      <th>description</th>\n",
       "      <th>genres</th>\n",
       "      <th>pagecount</th>\n",
       "      <th>published_date</th>\n",
       "      <th>language</th>\n",
       "      <th>book_id</th>\n",
       "      <th>format_type</th>\n",
       "    </tr>\n",
       "  </thead>\n",
       "  <tbody>\n",
       "    <tr>\n",
       "      <th>0</th>\n",
       "      <td>https://www.goodreads.com/book/show/5333265-w-...</td>\n",
       "      <td>W. C. Fields: A Life on Film</td>\n",
       "      <td>Ronald J. Fields</td>\n",
       "      <td>3.86</td>\n",
       "      <td>7</td>\n",
       "      <td>1</td>\n",
       "      <td>Provides plot summaries, cast, credits, and st...</td>\n",
       "      <td>[]</td>\n",
       "      <td>256</td>\n",
       "      <td>August 1, 1984</td>\n",
       "      <td>English</td>\n",
       "      <td>5333265</td>\n",
       "      <td>Paperback</td>\n",
       "    </tr>\n",
       "    <tr>\n",
       "      <th>1</th>\n",
       "      <td>https://www.goodreads.com/book/show/1333909.Go...</td>\n",
       "      <td>Good Harbor</td>\n",
       "      <td>Anita Diamant</td>\n",
       "      <td>3.30</td>\n",
       "      <td>8414</td>\n",
       "      <td>960</td>\n",
       "      <td>From their first meeting, a friendship grows b...</td>\n",
       "      <td>[Fiction, Contemporary, Chick Lit, Womens, Nov...</td>\n",
       "      <td>&lt;NA&gt;</td>\n",
       "      <td>January 1, 2001</td>\n",
       "      <td>English</td>\n",
       "      <td>1333909</td>\n",
       "      <td>Not Specified</td>\n",
       "    </tr>\n",
       "    <tr>\n",
       "      <th>2</th>\n",
       "      <td>https://www.goodreads.com/book/show/7327624-th...</td>\n",
       "      <td>The Unschooled Wizard</td>\n",
       "      <td>Barbara Hambly</td>\n",
       "      <td>3.99</td>\n",
       "      <td>158</td>\n",
       "      <td>9</td>\n",
       "      <td>Omnibus book club edition containing the Ladie...</td>\n",
       "      <td>[Fantasy, Fiction, Own, Audiobook]</td>\n",
       "      <td>600</td>\n",
       "      <td>January 1, 1987</td>\n",
       "      <td>English</td>\n",
       "      <td>7327624</td>\n",
       "      <td>Hardcover</td>\n",
       "    </tr>\n",
       "    <tr>\n",
       "      <th>3</th>\n",
       "      <td>https://www.goodreads.com/book/show/6066819-be...</td>\n",
       "      <td>Best Friends Forever</td>\n",
       "      <td>Jennifer Weiner</td>\n",
       "      <td>3.51</td>\n",
       "      <td>65109</td>\n",
       "      <td>4052</td>\n",
       "      <td>Addie Downs and Valerie Adler were eight when ...</td>\n",
       "      <td>[Chick Lit, Fiction, Romance, Contemporary, Ad...</td>\n",
       "      <td>368</td>\n",
       "      <td>July 14, 2009</td>\n",
       "      <td>English</td>\n",
       "      <td>6066819</td>\n",
       "      <td>Hardcover</td>\n",
       "    </tr>\n",
       "    <tr>\n",
       "      <th>4</th>\n",
       "      <td>https://www.goodreads.com/book/show/287140.Run...</td>\n",
       "      <td>Runic Astrology: Starcraft and Timekeeping in ...</td>\n",
       "      <td>Nigel Pennick</td>\n",
       "      <td>3.33</td>\n",
       "      <td>21</td>\n",
       "      <td>6</td>\n",
       "      <td>Book by Pennick, Nigel</td>\n",
       "      <td>[]</td>\n",
       "      <td>272</td>\n",
       "      <td>January 1, 1990</td>\n",
       "      <td>English</td>\n",
       "      <td>287140</td>\n",
       "      <td>Paperback</td>\n",
       "    </tr>\n",
       "  </tbody>\n",
       "</table>\n",
       "</div>"
      ],
      "text/plain": [
       "                                                 url  \\\n",
       "0  https://www.goodreads.com/book/show/5333265-w-...   \n",
       "1  https://www.goodreads.com/book/show/1333909.Go...   \n",
       "2  https://www.goodreads.com/book/show/7327624-th...   \n",
       "3  https://www.goodreads.com/book/show/6066819-be...   \n",
       "4  https://www.goodreads.com/book/show/287140.Run...   \n",
       "\n",
       "                                               title            author  \\\n",
       "0                       W. C. Fields: A Life on Film  Ronald J. Fields   \n",
       "1                                        Good Harbor     Anita Diamant   \n",
       "2                              The Unschooled Wizard    Barbara Hambly   \n",
       "3                               Best Friends Forever   Jennifer Weiner   \n",
       "4  Runic Astrology: Starcraft and Timekeeping in ...     Nigel Pennick   \n",
       "\n",
       "   rating_stars  rating_count  reviews  \\\n",
       "0          3.86             7        1   \n",
       "1          3.30          8414      960   \n",
       "2          3.99           158        9   \n",
       "3          3.51         65109     4052   \n",
       "4          3.33            21        6   \n",
       "\n",
       "                                         description  \\\n",
       "0  Provides plot summaries, cast, credits, and st...   \n",
       "1  From their first meeting, a friendship grows b...   \n",
       "2  Omnibus book club edition containing the Ladie...   \n",
       "3  Addie Downs and Valerie Adler were eight when ...   \n",
       "4                             Book by Pennick, Nigel   \n",
       "\n",
       "                                              genres  pagecount  \\\n",
       "0                                                 []        256   \n",
       "1  [Fiction, Contemporary, Chick Lit, Womens, Nov...       <NA>   \n",
       "2                 [Fantasy, Fiction, Own, Audiobook]        600   \n",
       "3  [Chick Lit, Fiction, Romance, Contemporary, Ad...        368   \n",
       "4                                                 []        272   \n",
       "\n",
       "    published_date language  book_id    format_type  \n",
       "0   August 1, 1984  English  5333265      Paperback  \n",
       "1  January 1, 2001  English  1333909  Not Specified  \n",
       "2  January 1, 1987  English  7327624      Hardcover  \n",
       "3    July 14, 2009  English  6066819      Hardcover  \n",
       "4  January 1, 1990  English   287140      Paperback  "
      ]
     },
     "execution_count": 243,
     "metadata": {},
     "output_type": "execute_result"
    }
   ],
   "source": [
    "data_df.head()"
   ]
  },
  {
   "cell_type": "code",
   "execution_count": null,
   "id": "314fad8d-9284-4daa-a17a-8fa2fb00442c",
   "metadata": {
    "scrolled": true
   },
   "outputs": [],
   "source": []
  },
  {
   "cell_type": "markdown",
   "id": "54ea5886-1d09-4bfa-bf3e-18b0f7cd54ab",
   "metadata": {},
   "source": [
    "### Load data to the database"
   ]
  },
  {
   "cell_type": "code",
   "execution_count": 244,
   "id": "8d02f74d-9799-4106-a3b1-4043bc6dcd96",
   "metadata": {},
   "outputs": [],
   "source": [
    "# Saving clean data in a file.\n",
    "import json\n",
    "data_list = data_df.to_dict(orient=\"records\")\n",
    "\n",
    "with open(\"../data/goodreads_books_clean.json\", \"w\") as file:\n",
    "    json.dump(data_list, file, indent=4)"
   ]
  },
  {
   "cell_type": "code",
   "execution_count": null,
   "id": "14aec7f0-2f9e-459b-a42f-b187a38dfd36",
   "metadata": {},
   "outputs": [],
   "source": []
  },
  {
   "cell_type": "code",
   "execution_count": null,
   "id": "5a61aeca-2ece-4b7d-8dd9-77ec7d849dd2",
   "metadata": {},
   "outputs": [],
   "source": []
  },
  {
   "cell_type": "code",
   "execution_count": null,
   "id": "abd442f0-739b-4138-96d6-a318d678ab2b",
   "metadata": {},
   "outputs": [],
   "source": []
  }
 ],
 "metadata": {
  "kernelspec": {
   "display_name": "Python 3 (ipykernel)",
   "language": "python",
   "name": "python3"
  },
  "language_info": {
   "codemirror_mode": {
    "name": "ipython",
    "version": 3
   },
   "file_extension": ".py",
   "mimetype": "text/x-python",
   "name": "python",
   "nbconvert_exporter": "python",
   "pygments_lexer": "ipython3",
   "version": "3.12.7"
  }
 },
 "nbformat": 4,
 "nbformat_minor": 5
}
